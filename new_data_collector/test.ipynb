{
 "cells": [
  {
   "cell_type": "code",
   "execution_count": 1,
   "metadata": {},
   "outputs": [],
   "source": [
    "import numpy as np\n",
    "import pandas as pd\n",
    "import matplotlib.pyplot as plt"
   ]
  },
  {
   "cell_type": "code",
   "execution_count": 5,
   "metadata": {},
   "outputs": [
    {
     "name": "stdout",
     "output_type": "stream",
     "text": [
      "Index(['Unnamed: 0', 'number_of_rooms', 'floor', 'area', 'address', 'date',\n",
      "       'price', 'latitude, longitude'],\n",
      "      dtype='object')\n"
     ]
    },
    {
     "data": {
      "text/plain": [
       "(5579, 8)"
      ]
     },
     "execution_count": 5,
     "metadata": {},
     "output_type": "execute_result"
    }
   ],
   "source": [
    "df = pd.read_csv(\"C:\\\\Users\\\\dilovar.mashrabov\\\\Desktop\\\\Junior Semester_2\\\\Data Science\\\\Dushanbe_house_predictor-main\\\\data collection\\\\estate_data1.csv\")\n",
    "print(df.columns)\n",
    "df.shape"
   ]
  },
  {
   "cell_type": "code",
   "execution_count": 34,
   "metadata": {},
   "outputs": [],
   "source": [
    "[float(i) for i in df['latitude, longitude'].iloc[1].replace(\"(\", '').replace(\")\", '').replace(\",\", '').split(\" \")]\n",
    "\n",
    "a = df['latitude, longitude'].apply(lambda x: float(x.replace(\"(\", '').replace(\")\", '').replace(\",\", '').split(\" \")[0]))\n",
    "b = df['latitude, longitude'].apply(lambda x: float(x.replace(\"(\", '').replace(\")\", '').replace(\",\", '').split(\" \")[1]))\n",
    "c = pd.DataFrame()\n",
    "c['latitude'] = a\n",
    "c['longtitude'] = b\n",
    "c['price'] = df['price']\n",
    "c.dropna(inplace=True)\n",
    "c.drop([3541], inplace=True)"
   ]
  },
  {
   "cell_type": "code",
   "execution_count": 38,
   "metadata": {},
   "outputs": [
    {
     "data": {
      "image/png": "[encoded data removed]",
      "text/plain": [
       "<Figure size 432x288 with 1 Axes>"
      ]
     },
     "metadata": {
      "needs_background": "light"
     },
     "output_type": "display_data"
    }
   ],
   "source": [
    "plt.scatter(c['latitude'], c['longtitude'])\n",
    "plt.show()"
   ]
  },
  {
   "cell_type": "code",
   "execution_count": 39,
   "metadata": {},
   "outputs": [
    {
     "data": {
      "text/html": [
       "<div>\n",
       "<style scoped>\n",
       "    .dataframe tbody tr th:only-of-type {\n",
       "        vertical-align: middle;\n",
       "    }\n",
       "\n",
       "    .dataframe tbody tr th {\n",
       "        vertical-align: top;\n",
       "    }\n",
       "\n",
       "    .dataframe thead th {\n",
       "        text-align: right;\n",
       "    }\n",
       "</style>\n",
       "<table border=\"1\" class=\"dataframe\">\n",
       "  <thead>\n",
       "    <tr style=\"text-align: right;\">\n",
       "      <th></th>\n",
       "      <th>latitude</th>\n",
       "      <th>longtitude</th>\n",
       "      <th>price</th>\n",
       "    </tr>\n",
       "  </thead>\n",
       "  <tbody>\n",
       "    <tr>\n",
       "      <th>0</th>\n",
       "      <td>38.585834</td>\n",
       "      <td>68.793715</td>\n",
       "      <td>330000</td>\n",
       "    </tr>\n",
       "    <tr>\n",
       "      <th>1</th>\n",
       "      <td>38.522254</td>\n",
       "      <td>68.749918</td>\n",
       "      <td>340000</td>\n",
       "    </tr>\n",
       "    <tr>\n",
       "      <th>3</th>\n",
       "      <td>38.520835</td>\n",
       "      <td>68.747908</td>\n",
       "      <td>700000</td>\n",
       "    </tr>\n",
       "    <tr>\n",
       "      <th>4</th>\n",
       "      <td>38.564374</td>\n",
       "      <td>68.739419</td>\n",
       "      <td>415000</td>\n",
       "    </tr>\n",
       "    <tr>\n",
       "      <th>5</th>\n",
       "      <td>38.530686</td>\n",
       "      <td>68.745261</td>\n",
       "      <td>513000</td>\n",
       "    </tr>\n",
       "    <tr>\n",
       "      <th>...</th>\n",
       "      <td>...</td>\n",
       "      <td>...</td>\n",
       "      <td>...</td>\n",
       "    </tr>\n",
       "    <tr>\n",
       "      <th>5558</th>\n",
       "      <td>38.507768</td>\n",
       "      <td>68.768158</td>\n",
       "      <td>300000</td>\n",
       "    </tr>\n",
       "    <tr>\n",
       "      <th>5559</th>\n",
       "      <td>38.550716</td>\n",
       "      <td>68.830547</td>\n",
       "      <td>380000</td>\n",
       "    </tr>\n",
       "    <tr>\n",
       "      <th>5560</th>\n",
       "      <td>38.559888</td>\n",
       "      <td>68.794314</td>\n",
       "      <td>380000</td>\n",
       "    </tr>\n",
       "    <tr>\n",
       "      <th>5562</th>\n",
       "      <td>38.530576</td>\n",
       "      <td>68.776302</td>\n",
       "      <td>720000</td>\n",
       "    </tr>\n",
       "    <tr>\n",
       "      <th>5572</th>\n",
       "      <td>38.523459</td>\n",
       "      <td>68.749516</td>\n",
       "      <td>1214260</td>\n",
       "    </tr>\n",
       "  </tbody>\n",
       "</table>\n",
       "<p>3729 rows × 3 columns</p>\n",
       "</div>"
      ],
      "text/plain": [
       "       latitude  longtitude    price\n",
       "0     38.585834   68.793715   330000\n",
       "1     38.522254   68.749918   340000\n",
       "3     38.520835   68.747908   700000\n",
       "4     38.564374   68.739419   415000\n",
       "5     38.530686   68.745261   513000\n",
       "...         ...         ...      ...\n",
       "5558  38.507768   68.768158   300000\n",
       "5559  38.550716   68.830547   380000\n",
       "5560  38.559888   68.794314   380000\n",
       "5562  38.530576   68.776302   720000\n",
       "5572  38.523459   68.749516  1214260\n",
       "\n",
       "[3729 rows x 3 columns]"
      ]
     },
     "execution_count": 39,
     "metadata": {},
     "output_type": "execute_result"
    }
   ],
   "source": [
    "c"
   ]
  },
  {
   "cell_type": "code",
   "execution_count": 32,
   "metadata": {},
   "outputs": [
    {
     "data": {
      "text/html": [
       "<div>\n",
       "<style scoped>\n",
       "    .dataframe tbody tr th:only-of-type {\n",
       "        vertical-align: middle;\n",
       "    }\n",
       "\n",
       "    .dataframe tbody tr th {\n",
       "        vertical-align: top;\n",
       "    }\n",
       "\n",
       "    .dataframe thead th {\n",
       "        text-align: right;\n",
       "    }\n",
       "</style>\n",
       "<table border=\"1\" class=\"dataframe\">\n",
       "  <thead>\n",
       "    <tr style=\"text-align: right;\">\n",
       "      <th></th>\n",
       "      <th>latitude</th>\n",
       "      <th>longtitude</th>\n",
       "      <th>price</th>\n",
       "    </tr>\n",
       "  </thead>\n",
       "  <tbody>\n",
       "    <tr>\n",
       "      <th>3541</th>\n",
       "      <td>37.511664</td>\n",
       "      <td>71.509309</td>\n",
       "      <td>250000</td>\n",
       "    </tr>\n",
       "  </tbody>\n",
       "</table>\n",
       "</div>"
      ],
      "text/plain": [
       "       latitude  longtitude   price\n",
       "3541  37.511664   71.509309  250000"
      ]
     },
     "execution_count": 32,
     "metadata": {},
     "output_type": "execute_result"
    }
   ],
   "source": [
    "c[c['longtitude'] == max(c['longtitude'])]"
   ]
  },
  {
   "cell_type": "code",
   "execution_count": 15,
   "metadata": {},
   "outputs": [
    {
     "name": "stdout",
     "output_type": "stream",
     "text": [
      "0 16 4\n",
      "4 19 3\n",
      "3 18 2\n",
      "2 23 5\n",
      "5 17 1\n",
      "1 25 0\n",
      "[0, 4, 3, 2, 5, 1, 0] 118\n"
     ]
    }
   ],
   "source": [
    "test = [[0, 25, 19, 19, 16, 28],\n",
    "        [25, 0 , 24, 30, 27, 17],\n",
    "        [19, 24, 0, 18, 20, 23],\n",
    "        [19, 30, 18, 0, 19, 32],\n",
    "        [16, 27, 20, 19, 0, 41],\n",
    "        [28, 17, 23, 32, 41, 0]]\n",
    "\n",
    "def travel(test, start):\n",
    "    path = [start]\n",
    "    length = 0\n",
    "    for i in range(len(test)-1):\n",
    "        row = test[start]\n",
    "        select_path = []\n",
    "        for b in range(len(test)):\n",
    "            if b in path:\n",
    "                continue\n",
    "            else:\n",
    "                select_path.append(row[b])\n",
    "        length += min(select_path)\n",
    "        print(start, end=' ')\n",
    "        start = row.index(min(select_path))\n",
    "        path.append(start)\n",
    "\n",
    "        print(min(select_path), start)\n",
    "    path.append(0)\n",
    "    length += test[start][0]\n",
    "    print(start, test[start][0], str(0))\n",
    "\n",
    "    return path, length\n",
    "\n",
    "path, length = travel(test, 0)\n",
    "print(path, length)"
   ]
  },
  {
   "cell_type": "code",
   "execution_count": 16,
   "metadata": {},
   "outputs": [
    {
     "name": "stdout",
     "output_type": "stream",
     "text": [
      "0 6 3\n",
      "3 2 2\n",
      "2 7 1\n",
      "1 8 0\n",
      "[0, 3, 2, 1, 0] 23\n"
     ]
    }
   ],
   "source": [
    "test = [[0, 16, 11, 6],\n",
    "        [8,0,13,16],\n",
    "        [4,7,0,9],\n",
    "        [5,12,2,0]]\n",
    "path, length = travel(test, 0)\n",
    "print(path, length)"
   ]
  },
  {
   "cell_type": "code",
   "execution_count": 18,
   "metadata": {},
   "outputs": [
    {
     "name": "stdout",
     "output_type": "stream",
     "text": [
      "0 10 1\n",
      "1 9 2\n",
      "2 12 3\n",
      "3 8 0\n",
      "[0, 1, 2, 3, 0] 39\n"
     ]
    }
   ],
   "source": [
    "test = [[0,10,15,20,],\n",
    "        [5,0,9,10],\n",
    "        [6,13,0,12],\n",
    "        [8,8,9,0]]\n",
    "\n",
    "path, length = travel(test, 0)\n",
    "print(path, length)"
   ]
  },
  {
   "cell_type": "code",
   "execution_count": 22,
   "metadata": {},
   "outputs": [
    {
     "data": {
      "text/plain": [
       "15"
      ]
     },
     "execution_count": 22,
     "metadata": {},
     "output_type": "execute_result"
    }
   ],
   "source": [
    "test = [[0,10,15,20,],\n",
    "        [5,0,9,10],\n",
    "        [6,13,0,12],\n",
    "        [8,8,9,0]]\n",
    "\n",
    "\n",
    "depth = len(test) + 1\n",
    "nodes = []\n",
    "length = 0\n",
    "\n",
    "def f_dist(node1, node2):\n",
    "    return test[node1][node2]\n",
    "\n",
    "def find_path(start):\n",
    "    global nodes\n",
    "\n",
    "    nodes.append(start)\n",
    "    for node in len(test):\n",
    "        if node in nodes:\n",
    "            continue\n",
    "        else:\n",
    "            pass\n",
    "    \n",
    "\n"
   ]
  },
  {
   "cell_type": "code",
   "execution_count": 32,
   "metadata": {},
   "outputs": [
    {
     "name": "stdout",
     "output_type": "stream",
     "text": [
      "__0__\n",
      "__1__\n",
      "__2__\n",
      "__3__\n"
     ]
    }
   ],
   "source": [
    "graph = [[0,10,15,20,],\n",
    "        [5,0,9,10],\n",
    "        [6,13,0,12],\n",
    "        [8,8,9,0]]\n",
    "\n",
    "\n",
    "nodes = []\n",
    "depth = len(graph) + 1\n",
    "\n",
    "\n",
    "def trial(graph, start, nodes, depth):\n",
    "    print(f\"__{start}__\")\n",
    "    depth -= 1\n",
    "    nodes.append(start)\n",
    "    if depth == 0:\n",
    "        return graph[start][0]\n",
    "    for i in range(len(graph)):\n",
    "        if i in nodes:\n",
    "            continue\n",
    "        else:\n",
    "            trial(graph, i, nodes, depth)\n",
    "            \n",
    "\n",
    "trial(graph, 0, nodes, depth)  "
   ]
  },
  {
   "cell_type": "code",
   "execution_count": 66,
   "metadata": {},
   "outputs": [],
   "source": [
    "from itertools import permutations\n",
    "from math import factorial\n",
    "graph = [[0,10,15,20,],\n",
    "        [5,0,9,10],\n",
    "        [6,13,0,12],\n",
    "        [8,8,9,0]]\n",
    "\n",
    "def brute(graph, start):\n",
    "    paths = [i for i in permutations([i for i in range(len(graph))],len(graph))]\n",
    "    paths = [list(i) for i in paths if i[0] == start]\n",
    "    \n",
    "\n",
    "\n",
    "    return result\n"
   ]
  },
  {
   "cell_type": "code",
   "execution_count": 71,
   "metadata": {},
   "outputs": [
    {
     "name": "stdout",
     "output_type": "stream",
     "text": [
      "[[2, 0, 1, 3], [2, 0, 3, 1], [2, 1, 0, 3], [2, 1, 3, 0], [2, 3, 0, 1], [2, 3, 1, 0]]\n",
      "2\n",
      "0\n",
      "1\n",
      "3\n",
      "2\n",
      "0\n",
      "3\n",
      "1\n",
      "2\n",
      "1\n",
      "0\n",
      "3\n",
      "2\n",
      "1\n",
      "3\n",
      "0\n"
     ]
    },
    {
     "ename": "IndexError",
     "evalue": "list index out of range",
     "output_type": "error",
     "traceback": [
      "\u001b[1;31m---------------------------------------------------------------------------\u001b[0m",
      "\u001b[1;31mIndexError\u001b[0m                                Traceback (most recent call last)",
      "\u001b[1;32m<ipython-input-71-07e792df793f>\u001b[0m in \u001b[0;36m<module>\u001b[1;34m\u001b[0m\n\u001b[0;32m      5\u001b[0m     \u001b[0mpath\u001b[0m \u001b[1;33m=\u001b[0m \u001b[1;36m0\u001b[0m\u001b[1;33m\u001b[0m\u001b[1;33m\u001b[0m\u001b[0m\n\u001b[0;32m      6\u001b[0m     \u001b[1;32mfor\u001b[0m \u001b[0mj\u001b[0m \u001b[1;32min\u001b[0m \u001b[0ma\u001b[0m\u001b[1;33m[\u001b[0m\u001b[0mi\u001b[0m\u001b[1;33m]\u001b[0m\u001b[1;33m:\u001b[0m\u001b[1;33m\u001b[0m\u001b[1;33m\u001b[0m\u001b[0m\n\u001b[1;32m----> 7\u001b[1;33m         \u001b[0mpath\u001b[0m \u001b[1;33m+=\u001b[0m \u001b[0mgraph\u001b[0m\u001b[1;33m[\u001b[0m\u001b[0mi\u001b[0m\u001b[1;33m]\u001b[0m\u001b[1;33m[\u001b[0m\u001b[0mj\u001b[0m\u001b[1;33m]\u001b[0m\u001b[1;33m\u001b[0m\u001b[1;33m\u001b[0m\u001b[0m\n\u001b[0m\u001b[0;32m      8\u001b[0m         \u001b[0mprint\u001b[0m\u001b[1;33m(\u001b[0m\u001b[0mj\u001b[0m\u001b[1;33m)\u001b[0m\u001b[1;33m\u001b[0m\u001b[1;33m\u001b[0m\u001b[0m\n\u001b[0;32m      9\u001b[0m     \u001b[1;31m# print(path)\u001b[0m\u001b[1;33m\u001b[0m\u001b[1;33m\u001b[0m\u001b[1;33m\u001b[0m\u001b[0m\n",
      "\u001b[1;31mIndexError\u001b[0m: list index out of range"
     ]
    }
   ],
   "source": [
    "a = brute(graph, 2)\n",
    "\n",
    "print(a)\n",
    "for i in range(len(a)):\n",
    "    path = 0\n",
    "    for j in a[i]:\n",
    "        path += graph[i][j]\n",
    "        print(j)\n",
    "    # print(path)"
   ]
  }
 ],
 "metadata": {
  "interpreter": {
   "hash": "8f90d660c17c31e3da85113e59ef3d42bd24b0cb856b429236ed965a61979c17"
  },
  "kernelspec": {
   "display_name": "Python 3.8.1 64-bit",
   "language": "python",
   "name": "python3"
  },
  "language_info": {
   "codemirror_mode": {
    "name": "ipython",
    "version": 3
   },
   "file_extension": ".py",
   "mimetype": "text/x-python",
   "name": "python",
   "nbconvert_exporter": "python",
   "pygments_lexer": "ipython3",
   "version": "3.8.1"
  },
  "orig_nbformat": 4
 },
 "nbformat": 4,
 "nbformat_minor": 2
}
