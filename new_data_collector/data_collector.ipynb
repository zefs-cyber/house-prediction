{
 "cells": [
  {
   "cell_type": "code",
   "execution_count": null,
   "metadata": {},
   "outputs": [],
   "source": [
    "import requests\n",
    "from bs4 import BeautifulSoup\n",
    "import numpy as np\n",
    "import pandas as pd\n",
    "import matplotlib.pyplot as plt"
   ]
  },
  {
   "cell_type": "code",
   "execution_count": null,
   "metadata": {},
   "outputs": [],
   "source": [
    "URL = \"https://somon.tj/nedvizhimost/prodazha-kvartir/\"\n",
    "page = requests.get(URL)\n",
    "soup = BeautifulSoup(page.content,'html.parser')\n",
    "page_list = soup.findAll(\"a\",class_=\"page-number js-page-filter\")\n",
    "count_pages = int(str(page_list[-1]).split(\">\")[1][:str(page_list[-1]).split(\">\")[1].index(\"<\")])+1"
   ]
  },
  {
   "cell_type": "code",
   "execution_count": null,
   "metadata": {},
   "outputs": [],
   "source": [
    "URL = 'https://somon.tj/nedvizhimost/prodazha-kvartir/?page='\n",
    "appartment_links = []\n",
    "\n",
    "for i in range(1,count_pages):\n",
    "    page = requests.get(URL+str(i))\n",
    "    soup = BeautifulSoup(page.content,'html.parser')\n",
    "    result = soup.find(\"ul\", class_=\"list-simple__output js-list-simple__output\")\n",
    "    all_links = result.find_all(\"a\", class_ = \"mask\")\n",
    "    [appartment_links.append(str(i).split(\" \")[2][6:-2]) for i in all_links]\n",
    "    "
   ]
  },
  {
   "cell_type": "code",
   "execution_count": null,
   "metadata": {},
   "outputs": [],
   "source": [
    "URL = 'https://somon.tj'\n",
    "df_main = pd.DataFrame(columns=['city', 'time', 'announcment_num', 'floor', 'area', 'room_count', 'district', 'description', 'discount', 'price'])\n",
    "for i in range(len(appartment_links)):\n",
    "    page = requests.get(URL + appartment_links[i])\n",
    "    print(URL + appartment_links[i])\n",
    "    soup = BeautifulSoup(page.content,'html.parser')\n",
    "\n",
    "    try:\n",
    "        city = soup.find(\"a\", class_ = \"announcement__location js-open-announcement-location\").find('span').get_text()\n",
    "    except:\n",
    "        city = None\n",
    "    \n",
    "    time = soup.find(\"span\", class_ = \"date-meta\").get_text()[14:]\n",
    "    announcment_num = int(soup.find(\"span\", class_ = \"number-announcement\").get_text()[18:])\n",
    "    try:\n",
    "        floor = str(soup.findAll('a', class_ = 'value-chars')[2]).split('>')[1].split(\"<\")[0]\n",
    "    except:\n",
    "        floor = None\n",
    "    \n",
    "    try:\n",
    "        building_type = str(soup.findAll('a', class_ = 'value-chars')[1]).split('>')[1].split(\"<\")[0]\n",
    "    except:\n",
    "        building_type = None\n",
    "    \n",
    "    try:\n",
    "        area = str(soup.findAll('a', class_ = 'value-chars')[0]).split('>')[1].split(\"<\")[0]\n",
    "    except:\n",
    "        area = None\n",
    "    \n",
    "    try:\n",
    "        room_count = soup.find('h1', 'title-announcement').get_text().replace(\" \", '').replace(\"\\n\", '').split(\"-\")[0]\n",
    "    except:\n",
    "        room_count = None\n",
    "    \n",
    "    try:\n",
    "        district = str(soup.find('span', class_ = 'value-chars').get_text().replace(\" \", \"\").replace(\"\\n\", ''))\n",
    "    except:\n",
    "        district = None\n",
    "    \n",
    "    try:\n",
    "        description = str(soup.find('div', class_='announcement-description').find(\"p\")).split('>')[1].split(\"<\")[0]\n",
    "    except:\n",
    "        description = None\n",
    "    \n",
    "    try:\n",
    "        discount = soup.find('div', class_ ='announcement-price__cost').get_text().replace(\" \", '').replace(\"\\n\", '').split(\".\")[1]\n",
    "    except:\n",
    "        discount = None\n",
    "    price = int(soup.find('div', class_ ='announcement-price__cost').get_text().replace(\" \", '').replace(\"\\n\", '').split(\".\")[0][:-1])\n",
    "    dt = {\"city\":city, \"time\":time, \"announcment_num\":announcment_num, \"floor\":floor, \"area\":area, \"room_count\":room_count, \"district\":district, \"description\":description, \"discount\":discount, \"price\":price}\n",
    "    df_main = df_main.append(dt, ignore_index=True)"
   ]
  },
  {
   "cell_type": "code",
   "execution_count": null,
   "metadata": {},
   "outputs": [],
   "source": [
    "df_main.to_csv(\"data.csv\")"
   ]
  }
 ],
 "metadata": {
  "language_info": {
   "name": "python"
  },
  "orig_nbformat": 4
 },
 "nbformat": 4,
 "nbformat_minor": 2
}
